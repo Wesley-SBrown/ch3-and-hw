{
 "cells": [
  {
   "cell_type": "markdown",
   "metadata": {},
   "source": [
    "Question 1:"
   ]
  },
  {
   "cell_type": "code",
   "execution_count": 13,
   "metadata": {},
   "outputs": [],
   "source": [
    "import cvxpy as cp"
   ]
  },
  {
   "cell_type": "markdown",
   "metadata": {},
   "source": [
    "Decision Variables: \n",
    "- $x_1, x_2, x_3, x_4$  (amount invested into bonds 1-4) "
   ]
  },
  {
   "cell_type": "code",
   "execution_count": 14,
   "metadata": {},
   "outputs": [],
   "source": [
    "x = cp.Variable(4,nonneg=True)"
   ]
  },
  {
   "cell_type": "markdown",
   "metadata": {},
   "source": [
    "Parameters: \n",
    "- total investment (1,000,000) \n",
    "- expected returns (13, 7, 12, 14) \n",
    "- worst-case return (0.06, 0.07, 0.1, 0.09) \n",
    "- durations (3, 4, 7.5, 9)\n",
    "- diversity limit (0.402025)"
   ]
  },
  {
   "cell_type": "code",
   "execution_count": 15,
   "metadata": {},
   "outputs": [],
   "source": [
    "total_investment = 1_000_000\n",
    "expected_returns = [13,7,12,14]\n",
    "worst_return = [0.06, 0.07, 0.1, 0.09] \n",
    "durations = [3,4,7.5,9]\n",
    "diversity_limit = 0.402025"
   ]
  },
  {
   "cell_type": "markdown",
   "metadata": {},
   "source": [
    "Objective Function:\n",
    "- total return = $0.13x_1 + 0.07x_2 + 0.12x_3 + 0.14x_4$"
   ]
  },
  {
   "cell_type": "code",
   "execution_count": 16,
   "metadata": {},
   "outputs": [],
   "source": [
    "objective = cp.Maximize(expected_returns[0] * x[0] + expected_returns[1] * x[1] + \n",
    "                        expected_returns[2] * x[2] + expected_returns[3] * x[3])"
   ]
  },
  {
   "cell_type": "markdown",
   "metadata": {},
   "source": [
    "Constraints:\n",
    "- $x_1 + x_2 + x_3 + x_4 \\leq 1,000,000$:\n",
    "This constraint limits the total amount of money that can be put into the bonds. Since Aethelinda only has 1 million dollars available, this limits that the maximum allocated does not exceed 1 million dollars.\n",
    "\n",
    "- $(0.06x_1 + 0.07x_2 + 0.1x_3 + 0.09x_4) \\geq 0.08(x_1 + x_2 + x_3 + x_4)$: This constraint requires that any combination of bond investment must result in a worst-case return for the bond portfolio to be at least 8%. \n",
    "\n",
    "- $(3x_1 + 4x_2 + 7.5x_3 + 9x_4) \\leq 6(x_1 + x_2 + x_3 + x_4)$: This constraint limits the average duration of the bond portfolio to be at most 6. \n",
    "\n",
    "- $x_1, x_2, x_3, x_4 \\leq 0.402025(x_1 + x_2 + x_3 + x_4)$ This constraint ensures that no more than 40.2025% of the total amount invested goes to a singular bond. \n"
   ]
  },
  {
   "cell_type": "code",
   "execution_count": 17,
   "metadata": {},
   "outputs": [],
   "source": [
    "constraints = [\n",
    "    cp.sum(x) <= total_investment,\n",
    "    (worst_return[0]*x[0]+worst_return[1]*x[1]+worst_return[2]*x[2]+worst_return[3]*x[3]) >= 0.08 * (cp.sum(x)),\n",
    "    (durations[0]*x[0]+durations[1]*x[1]+durations[2]*x[2]+durations[3]*x[3]) <= 6 * (cp.sum(x)),\n",
    "    x <= 0.402025 * cp.sum(x)\n",
    "\n",
    "]"
   ]
  },
  {
   "cell_type": "markdown",
   "metadata": {},
   "source": [
    "Why is this a linear optimization problem? \\\n",
    "This is a linear optimization problem because all of the functions are linear, and the goal is to optimize the linear objective function. There are also no nonlinear terms."
   ]
  },
  {
   "cell_type": "code",
   "execution_count": 18,
   "metadata": {},
   "outputs": [
    {
     "name": "stdout",
     "output_type": "stream",
     "text": [
      "Optimal investments in each bond:\n",
      "Bond 1: $402,025.00\n",
      "Bond 2: $0.01\n",
      "Bond 3: $391,899.99\n",
      "Bond 4: $206,075.01\n",
      "Optimal expected return: $12,814,174.97\n"
     ]
    }
   ],
   "source": [
    "problem = cp.Problem(objective, constraints)\n",
    "\n",
    "problem.solve()\n",
    "\n",
    "print(\"Optimal investments in each bond:\")\n",
    "for i in range(4):\n",
    "    print(f\"Bond {i+1}: ${x[i].value:,.2f}\")\n",
    "\n",
    "print(f\"Optimal expected return: ${objective.value:,.2f}\")"
   ]
  }
 ],
 "metadata": {
  "kernelspec": {
   "display_name": "venv",
   "language": "python",
   "name": "python3"
  },
  "language_info": {
   "codemirror_mode": {
    "name": "ipython",
    "version": 3
   },
   "file_extension": ".py",
   "mimetype": "text/x-python",
   "name": "python",
   "nbconvert_exporter": "python",
   "pygments_lexer": "ipython3",
   "version": "3.13.1"
  }
 },
 "nbformat": 4,
 "nbformat_minor": 2
}
