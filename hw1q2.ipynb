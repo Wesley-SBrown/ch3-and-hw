{
 "cells": [
  {
   "cell_type": "markdown",
   "metadata": {},
   "source": [
    "Problem 2:"
   ]
  },
  {
   "cell_type": "code",
   "execution_count": 1,
   "metadata": {},
   "outputs": [],
   "source": [
    "import cvxpy as cp\n",
    "import numpy as np"
   ]
  },
  {
   "cell_type": "markdown",
   "metadata": {},
   "source": [
    "Decision Variables: Hours each designer works on each project"
   ]
  },
  {
   "cell_type": "code",
   "execution_count": 2,
   "metadata": {},
   "outputs": [],
   "source": [
    "x = cp.Variable((3, 4), nonneg=True)  # 3 designers, 4 projects"
   ]
  },
  {
   "cell_type": "markdown",
   "metadata": {},
   "source": [
    "Parameters:\n",
    "- 3 designers (A, B, C)\n",
    "- 4 projects (1,2,3,4)\n",
    "- Capability scores\n",
    "- required hours per project {1: 70, 2: 50, 3: 85, 4: 35}"
   ]
  },
  {
   "cell_type": "code",
   "execution_count": 3,
   "metadata": {},
   "outputs": [],
   "source": [
    "# Define sets: designers and projects\n",
    "designers = ['A', 'B', 'C']\n",
    "projects = [1, 2, 3, 4]\n",
    "\n",
    "# Capability scores (s_ij) as a dictionary\n",
    "s = {\n",
    "    ('A', 1): 90, ('A', 2): 80, ('A', 3): 10, ('A', 4): 50,\n",
    "    ('B', 1): 60, ('B', 2): 70, ('B', 3): 50, ('B', 4): 65,\n",
    "    ('C', 1): 70, ('C', 2): 40, ('C', 3): 72, ('C', 4): 85\n",
    "}\n",
    "\n",
    "# Hours required for each project (h_j)\n",
    "required_hours = {1: 70, 2: 50, 3: 85, 4: 35}"
   ]
  },
  {
   "cell_type": "code",
   "execution_count": 4,
   "metadata": {},
   "outputs": [],
   "source": [
    "# Map designers and projects to indices for easier matrix manipulation\n",
    "designer_index = {'A': 0, 'B': 1, 'C': 2}\n",
    "project_index = {1: 0, 2: 1, 3: 2, 4: 3}\n",
    "\n",
    "# Create a matrix for capability scores\n",
    "s_matrix = np.zeros((3, 4))\n",
    "for (designer, project), score in s.items():\n",
    "    i = designer_index[designer]\n",
    "    j = project_index[project]\n",
    "    s_matrix[i, j] = score\n",
    "\n",
    "# Map designers and projects to indices for easier matrix manipulation\n",
    "designer_index = {'A': 0, 'B': 1, 'C': 2}\n",
    "project_index = {1: 0, 2: 1, 3: 2, 4: 3}"
   ]
  },
  {
   "cell_type": "markdown",
   "metadata": {},
   "source": [
    "Objective Function: Element-wise multiplication of s_matrix and x"
   ]
  },
  {
   "cell_type": "code",
   "execution_count": 5,
   "metadata": {},
   "outputs": [],
   "source": [
    "objective = cp.Maximize(\n",
    "    cp.sum(cp.multiply(s_matrix, x))\n",
    ")"
   ]
  },
  {
   "cell_type": "markdown",
   "metadata": {},
   "source": [
    "Constraints:\n",
    "- Each designer works 80 hours total, so this constraint limits variability in hours\n",
    "- Each project requires specific total hours, so this constraint requires a minimum number of hours be allocated to that project\n"
   ]
  },
  {
   "cell_type": "code",
   "execution_count": 6,
   "metadata": {},
   "outputs": [],
   "source": [
    "constraints = []\n",
    "# Total hours\n",
    "for i in range(3):\n",
    "    constraints.append(cp.sum(x[i, :]) == 80)\n",
    "\n",
    "# Required hours per project\n",
    "for j in range(4):\n",
    "    constraints.append(cp.sum(x[:, j]) == required_hours[projects[j]])\n"
   ]
  },
  {
   "cell_type": "code",
   "execution_count": 7,
   "metadata": {},
   "outputs": [
    {
     "name": "stdout",
     "output_type": "stream",
     "text": [
      "Optimal work assignment:\n",
      "Designer A works 70.00 hours on Project 1\n",
      "Designer A works 10.00 hours on Project 2\n",
      "Designer A works 0.00 hours on Project 3\n",
      "Designer A works 0.00 hours on Project 4\n",
      "Designer B works 0.00 hours on Project 1\n",
      "Designer B works 40.00 hours on Project 2\n",
      "Designer B works 5.00 hours on Project 3\n",
      "Designer B works 35.00 hours on Project 4\n",
      "Designer C works 0.00 hours on Project 1\n",
      "Designer C works 0.00 hours on Project 2\n",
      "Designer C works 80.00 hours on Project 3\n",
      "Designer C works 0.00 hours on Project 4\n",
      "\n",
      "Total Capability Score: 18185.00\n"
     ]
    }
   ],
   "source": [
    "# Solve the problem\n",
    "problem = cp.Problem(objective, constraints)\n",
    "problem.solve()\n",
    "\n",
    "# Output results\n",
    "print(\"Optimal work assignment:\")\n",
    "for i, designer in enumerate(designers):\n",
    "    for j, project in enumerate(projects):\n",
    "        print(f\"Designer {designer} works {x[i, j].value:.2f} hours on Project {project}\")\n",
    "\n",
    "print(f\"\\nTotal Capability Score: {problem.value:.2f}\")\n"
   ]
  },
  {
   "cell_type": "markdown",
   "metadata": {},
   "source": [
    "This is a linear optimization problem because the objective function, the contraints, and the decision variables are all linear. "
   ]
  }
 ],
 "metadata": {
  "kernelspec": {
   "display_name": "venv",
   "language": "python",
   "name": "python3"
  },
  "language_info": {
   "codemirror_mode": {
    "name": "ipython",
    "version": 3
   },
   "file_extension": ".py",
   "mimetype": "text/x-python",
   "name": "python",
   "nbconvert_exporter": "python",
   "pygments_lexer": "ipython3",
   "version": "3.13.1"
  }
 },
 "nbformat": 4,
 "nbformat_minor": 2
}
